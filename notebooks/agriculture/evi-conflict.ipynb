{
 "cells": [
  {
   "cell_type": "code",
   "execution_count": 1,
   "id": "b5ebfe80-d0c3-41fc-8445-6d2f008dc22a",
   "metadata": {},
   "outputs": [],
   "source": [
    "import pandas as pd\n",
    "import geopandas as gpd\n",
    "import sys, os\n",
    "from os.path import join, expanduser, basename\n",
    "from shapely.geometry import Point\n",
    "from folium import plugins\n",
    "import folium as flm\n",
    "import rasterio as rio\n",
    "from rasterio.plot import show"
   ]
  },
  {
   "cell_type": "code",
   "execution_count": 2,
   "id": "2f17c141-7391-4c3d-90e7-366826960780",
   "metadata": {},
   "outputs": [],
   "source": [
    "sys.path.append(join(expanduser(\"~\"), 'Repos', 'GOSTrocks', 'src'))\n",
    "import GOSTrocks.rasterMisc as rMisc"
   ]
  },
  {
   "cell_type": "code",
   "execution_count": 3,
   "id": "47e8bb48-8ec5-4512-a4e3-0c40eb10c13f",
   "metadata": {},
   "outputs": [],
   "source": [
    "acled = pd.read_csv('../../data/Niger_conflict_data.csv')"
   ]
  },
  {
   "cell_type": "code",
   "execution_count": 4,
   "id": "51edc615-1b29-44b3-9f4c-7437f037cb83",
   "metadata": {},
   "outputs": [],
   "source": [
    "acled.loc[:, \"geometry\"] = acled.apply(lambda x: Point(x.longitude, x.latitude), axis=1)"
   ]
  },
  {
   "cell_type": "code",
   "execution_count": 5,
   "id": "bef40362-b2e8-4d83-acc2-0eff35d03cf7",
   "metadata": {},
   "outputs": [],
   "source": [
    "acled = gpd.GeoDataFrame(acled, geometry='geometry', crs='EPSG:4326')"
   ]
  },
  {
   "cell_type": "code",
   "execution_count": 6,
   "id": "988a2331-22b7-4f00-ad70-da22df5fc482",
   "metadata": {},
   "outputs": [
    {
     "data": {
      "text/plain": [
       "3485"
      ]
     },
     "execution_count": 6,
     "metadata": {},
     "output_type": "execute_result"
    }
   ],
   "source": [
    "len(acled)"
   ]
  },
  {
   "cell_type": "code",
   "execution_count": 7,
   "id": "0405c189-790a-489f-9ce9-cbe4e13d9b1b",
   "metadata": {},
   "outputs": [
    {
     "data": {
      "text/plain": [
       "year\n",
       "2022    982\n",
       "2023    795\n",
       "2020    550\n",
       "2021    431\n",
       "2019    371\n",
       "2024    356\n",
       "Name: count, dtype: int64"
      ]
     },
     "execution_count": 7,
     "metadata": {},
     "output_type": "execute_result"
    }
   ],
   "source": [
    "acled.year.value_counts()"
   ]
  },
  {
   "cell_type": "code",
   "execution_count": 8,
   "id": "bfbd0adb-6ea9-4987-b0c2-7f57059853ef",
   "metadata": {},
   "outputs": [
    {
     "data": {
      "text/plain": [
       "civilian_targeting\n",
       "Civilian targeting    1473\n",
       "Name: count, dtype: int64"
      ]
     },
     "execution_count": 8,
     "metadata": {},
     "output_type": "execute_result"
    }
   ],
   "source": [
    "acled.civilian_targeting.value_counts()"
   ]
  },
  {
   "cell_type": "code",
   "execution_count": 9,
   "id": "17336e70-e5ed-4389-a916-6ec7951fd336",
   "metadata": {},
   "outputs": [],
   "source": [
    "# map = folium.Map(location=[15, 30], tiles=\"Cartodb dark_matter\", zoom_start=2)\n",
    "# heat_data = [[point.xy[1][0], point.xy[0][0]] for point in geo_df.geometry]\n",
    "# heat_data\n",
    "# plugins.HeatMap(heat_data).add_to(map)"
   ]
  },
  {
   "cell_type": "code",
   "execution_count": 10,
   "id": "9cd329f0-118b-4415-80b2-2594caeed8d2",
   "metadata": {},
   "outputs": [],
   "source": [
    "acled_filt = acled.loc[acled['year']==2023].copy()\n",
    "# acled_filt = acled.loc[(acled['year']==2023) & (acled['civilian_targeting'] == \"Civilian targeting\")].copy()"
   ]
  },
  {
   "cell_type": "code",
   "execution_count": 11,
   "id": "286547bf-2d1c-42a9-a098-d73ef6bebcb8",
   "metadata": {},
   "outputs": [],
   "source": [
    "acled_filt.loc[:, \"fatalities_norm\"] = ((acled_filt.fatalities-acled_filt.fatalities.min())/(acled_filt.fatalities.max()-acled_filt.fatalities.min()))"
   ]
  },
  {
   "cell_type": "code",
   "execution_count": 12,
   "id": "e92ce192-b439-41c2-a86d-cd00abd6c85f",
   "metadata": {},
   "outputs": [],
   "source": [
    "# acled_filt.loc[acled_filt.fatalities==15]"
   ]
  },
  {
   "cell_type": "code",
   "execution_count": 13,
   "id": "7492a4ea-d681-4de6-bc6f-b40ebafab7dd",
   "metadata": {},
   "outputs": [],
   "source": [
    "heat_data = [[row.geometry.xy[1][0], row.geometry.xy[0][0], row.fatalities_norm] for idx, row in acled_filt.iterrows()]\n",
    "# heat_data = [[point.xy[1][0], point.xy[0][0]] for point in geo_df.geometry]"
   ]
  },
  {
   "cell_type": "code",
   "execution_count": 14,
   "id": "64ac89f0-d85b-4818-940f-a466208d3c0d",
   "metadata": {},
   "outputs": [],
   "source": [
    "# plugins.HeatMap?"
   ]
  },
  {
   "cell_type": "code",
   "execution_count": 15,
   "id": "19878fac-2054-4e43-8c9d-629116b7f146",
   "metadata": {},
   "outputs": [],
   "source": [
    "# m = flm.Map()\n",
    "# plugins.HeatMap(heat_data).add_to(m)\n",
    "# flm.LayerControl().add_to(m)\n",
    "# m"
   ]
  },
  {
   "cell_type": "code",
   "execution_count": 16,
   "id": "dd4de6d0-2a8a-4602-ad9f-1421c9bf25b2",
   "metadata": {},
   "outputs": [],
   "source": [
    "data_dir = join(expanduser('~'), 'data', 'niger')"
   ]
  },
  {
   "cell_type": "code",
   "execution_count": 40,
   "id": "d6852a83-871a-41cb-adab-d557cdc03f78",
   "metadata": {},
   "outputs": [],
   "source": [
    "evi = join(data_dir, 'zcore_dea_2023_09_v1.tif')"
   ]
  },
  {
   "cell_type": "code",
   "execution_count": 24,
   "id": "f04740ad-3a9c-499f-b2c8-3c66884a060f",
   "metadata": {},
   "outputs": [],
   "source": [
    "# src = rio.open(evi)\n",
    "# src.meta"
   ]
  },
  {
   "cell_type": "code",
   "execution_count": 25,
   "id": "807f17d9-9678-40d4-84ac-60f12299b4d5",
   "metadata": {},
   "outputs": [
    {
     "data": {
      "text/plain": [
       "(795, 3485)"
      ]
     },
     "execution_count": 25,
     "metadata": {},
     "output_type": "execute_result"
    }
   ],
   "source": [
    "len(acled_filt), len(acled)"
   ]
  },
  {
   "cell_type": "code",
   "execution_count": 26,
   "id": "25b8c5c8-ebd9-41b9-9ae2-807b1b43c766",
   "metadata": {},
   "outputs": [],
   "source": [
    "acled_filt = acled_filt.to_crs(\"EPSG:32632\")"
   ]
  },
  {
   "cell_type": "code",
   "execution_count": 27,
   "id": "84a86491-68d9-446f-ad0d-7346eeee25f4",
   "metadata": {},
   "outputs": [],
   "source": [
    "acled_filt.loc[:, \"geometry\"] = acled_filt.geometry.buffer(10000)"
   ]
  },
  {
   "cell_type": "code",
   "execution_count": 28,
   "id": "b9e233f0-f2d5-40c4-82f0-8676c7f9c1ec",
   "metadata": {},
   "outputs": [],
   "source": [
    "# acled_filt.head(100).explore()"
   ]
  },
  {
   "cell_type": "code",
   "execution_count": 29,
   "id": "634d6e90-e72c-46b5-bc36-fa5c965927d5",
   "metadata": {},
   "outputs": [],
   "source": [
    "import numpy as np"
   ]
  },
  {
   "cell_type": "code",
   "execution_count": 30,
   "id": "3bc1f8a1-d8af-4b25-b3dd-257d45ac861a",
   "metadata": {},
   "outputs": [],
   "source": [
    "res = rMisc.rasterizeDataFrame(\n",
    "    inD=acled_filt,\n",
    "    outFile=None,\n",
    "    # outFile=join(data_dir, 'acled_rast.tif'),\n",
    "    idField='fatalities',\n",
    "    templateRaster=evi,\n",
    "    mergeAlg='ADD',\n",
    "    nodata=0\n",
    ")"
   ]
  },
  {
   "cell_type": "code",
   "execution_count": 31,
   "id": "6785d9ae-709c-496a-ba86-d8b033d4cd8b",
   "metadata": {},
   "outputs": [],
   "source": [
    "vals = res['vals']"
   ]
  },
  {
   "cell_type": "code",
   "execution_count": 32,
   "id": "1eaabf94-8950-42e1-a10e-277340484592",
   "metadata": {},
   "outputs": [
    {
     "data": {
      "text/plain": [
       "175.0"
      ]
     },
     "execution_count": 32,
     "metadata": {},
     "output_type": "execute_result"
    }
   ],
   "source": [
    "vals.max()"
   ]
  },
  {
   "cell_type": "code",
   "execution_count": 47,
   "id": "75b6386d-6cb9-4191-a1b7-7364b064a8f8",
   "metadata": {},
   "outputs": [],
   "source": [
    "acled_filt.loc[:, \"bool\"] = 1"
   ]
  },
  {
   "cell_type": "code",
   "execution_count": 48,
   "id": "66d7a6d8-3f8e-4f6b-a88b-1f40121b691c",
   "metadata": {},
   "outputs": [],
   "source": [
    "res = rMisc.rasterizeDataFrame(\n",
    "    inD=acled_filt,\n",
    "    outFile=None,\n",
    "    # outFile=join(data_dir, 'acled_rast.tif'),\n",
    "    idField='bool',\n",
    "    templateRaster=evi,\n",
    "    mergeAlg='ADD',\n",
    "    nodata=0\n",
    ")"
   ]
  },
  {
   "cell_type": "code",
   "execution_count": 49,
   "id": "fd68c8e8-e7af-4fbd-a665-2cc1014e998c",
   "metadata": {},
   "outputs": [],
   "source": [
    "vals_count = res['vals']"
   ]
  },
  {
   "cell_type": "code",
   "execution_count": 50,
   "id": "26bdf5fe-8060-4f74-875c-186c2e093c12",
   "metadata": {},
   "outputs": [
    {
     "data": {
      "text/plain": [
       "53.0"
      ]
     },
     "execution_count": 50,
     "metadata": {},
     "output_type": "execute_result"
    }
   ],
   "source": [
    "vals_count.max()"
   ]
  },
  {
   "cell_type": "code",
   "execution_count": 51,
   "id": "d3451ebf-b531-4d31-ae53-69c3ef8b58cb",
   "metadata": {},
   "outputs": [],
   "source": [
    "# np.nanmax(vals)"
   ]
  },
  {
   "cell_type": "code",
   "execution_count": 52,
   "id": "99bc5f0d-9b93-434c-81ec-34b45b70e36c",
   "metadata": {},
   "outputs": [],
   "source": [
    "# vals[vals==0] = np.nan"
   ]
  },
  {
   "cell_type": "code",
   "execution_count": 53,
   "id": "394e35b8-c489-42ae-82a1-9fc2a652c31b",
   "metadata": {},
   "outputs": [
    {
     "data": {
      "image/png": "[encoded data removed]",
      "text/plain": [
       "<Figure size 640x480 with 1 Axes>"
      ]
     },
     "metadata": {},
     "output_type": "display_data"
    },
    {
     "data": {
      "text/plain": [
       "<Axes: >"
      ]
     },
     "execution_count": 53,
     "metadata": {},
     "output_type": "execute_result"
    }
   ],
   "source": [
    "show(vals)"
   ]
  },
  {
   "cell_type": "code",
   "execution_count": 54,
   "id": "62c38283-190f-4d70-9d01-7f9eb17967ac",
   "metadata": {},
   "outputs": [
    {
     "data": {
      "text/plain": [
       "{'driver': 'GTiff',\n",
       " 'dtype': 'float32',\n",
       " 'nodata': nan,\n",
       " 'width': 6727,\n",
       " 'height': 5242,\n",
       " 'count': 1,\n",
       " 'crs': CRS.from_epsg(32632),\n",
       " 'transform': Affine(250.0, 0.0, -466208.4527382861,\n",
       "        0.0, -250.00000000000006, 2618178.8511287076)}"
      ]
     },
     "execution_count": 54,
     "metadata": {},
     "output_type": "execute_result"
    }
   ],
   "source": [
    "src = rio.open(evi)\n",
    "src.meta"
   ]
  },
  {
   "cell_type": "code",
   "execution_count": 55,
   "id": "06bc961a-b14f-4e93-9f84-a970a0be44f2",
   "metadata": {},
   "outputs": [],
   "source": [
    "data = src.read(1)"
   ]
  },
  {
   "cell_type": "code",
   "execution_count": 56,
   "id": "88110dcf-dd3e-43de-91e9-04eefaf2ffa2",
   "metadata": {},
   "outputs": [
    {
     "data": {
      "text/plain": [
       "(17.207535, -7.7767906)"
      ]
     },
     "execution_count": 56,
     "metadata": {},
     "output_type": "execute_result"
    }
   ],
   "source": [
    "np.nanmax(data), np.nanmin(data)"
   ]
  },
  {
   "cell_type": "code",
   "execution_count": 57,
   "id": "3c017d42-b4de-4774-98ab-0b75cb081393",
   "metadata": {},
   "outputs": [
    {
     "data": {
      "text/plain": [
       "array([nan, nan, nan, ..., nan, nan, nan], dtype=float32)"
      ]
     },
     "execution_count": 57,
     "metadata": {},
     "output_type": "execute_result"
    }
   ],
   "source": [
    "data.flatten()"
   ]
  },
  {
   "cell_type": "code",
   "execution_count": 58,
   "id": "cc175c68-6767-44b5-b8a1-19b3461719ae",
   "metadata": {},
   "outputs": [
    {
     "data": {
      "text/plain": [
       "array([0., 0., 0., ..., 0., 0., 0.], dtype=float32)"
      ]
     },
     "execution_count": 58,
     "metadata": {},
     "output_type": "execute_result"
    }
   ],
   "source": [
    "vals.flatten()"
   ]
  },
  {
   "cell_type": "code",
   "execution_count": 59,
   "id": "48356c3e-671a-4db5-84b0-d49bcbac01ad",
   "metadata": {},
   "outputs": [],
   "source": [
    "# indices = list(np.ndindex(data.shape))\n",
    "# xys = [Point(src.xy(ind[0], ind[1])) for ind in indices]"
   ]
  },
  {
   "cell_type": "code",
   "execution_count": 61,
   "id": "e09ff10a-739a-4199-abad-d670d93b8389",
   "metadata": {},
   "outputs": [],
   "source": [
    "res_df = pd.DataFrame({\n",
    "    # 'spatial_index': indices, \n",
    "    # 'xy': xys, \n",
    "    'evi': data.flatten(),\n",
    "    'acled': vals.flatten(),\n",
    "    'acled_count': vals_count.flatten()\n",
    "})\n",
    "res_df['pointid'] = res_df.index"
   ]
  },
  {
   "cell_type": "code",
   "execution_count": 62,
   "id": "fa6ae6eb-6114-45eb-b6b7-38c8bd479331",
   "metadata": {},
   "outputs": [],
   "source": [
    "df = res_df.loc[~res_df.evi.isna()].copy()"
   ]
  },
  {
   "cell_type": "code",
   "execution_count": 66,
   "id": "888311a4-0cd0-40e3-8cad-3864999249f0",
   "metadata": {},
   "outputs": [],
   "source": [
    "# df.loc[:, \"acled\"] = df.acled.fillna(0)"
   ]
  },
  {
   "cell_type": "code",
   "execution_count": 68,
   "id": "c0376954-a25b-4223-a27e-327ebfc216ed",
   "metadata": {},
   "outputs": [],
   "source": [
    "df.to_csv('../../data/evi_conflict.csv')"
   ]
  },
  {
   "cell_type": "code",
   "execution_count": 120,
   "id": "2951a22d-04c3-4210-a0a9-7adc1cb413dd",
   "metadata": {},
   "outputs": [],
   "source": [
    "# gdf = gpd.GeoDataFrame(df.head(100), geometry=\"xy\", crs=\"EPSG:32632\")"
   ]
  },
  {
   "cell_type": "code",
   "execution_count": 121,
   "id": "2f7b8c9e-3ffa-412e-9e0a-d43fa952b961",
   "metadata": {},
   "outputs": [
    {
     "data": {
      "text/html": [
       "<div>\n",
       "<style scoped>\n",
       "    .dataframe tbody tr th:only-of-type {\n",
       "        vertical-align: middle;\n",
       "    }\n",
       "\n",
       "    .dataframe tbody tr th {\n",
       "        vertical-align: top;\n",
       "    }\n",
       "\n",
       "    .dataframe thead th {\n",
       "        text-align: right;\n",
       "    }\n",
       "</style>\n",
       "<table border=\"1\" class=\"dataframe\">\n",
       "  <thead>\n",
       "    <tr style=\"text-align: right;\">\n",
       "      <th></th>\n",
       "      <th>evi</th>\n",
       "      <th>acled</th>\n",
       "      <th>pointid</th>\n",
       "    </tr>\n",
       "  </thead>\n",
       "  <tbody>\n",
       "    <tr>\n",
       "      <th>2764235</th>\n",
       "      <td>0.569313</td>\n",
       "      <td>0.0</td>\n",
       "      <td>2764235</td>\n",
       "    </tr>\n",
       "    <tr>\n",
       "      <th>5004061</th>\n",
       "      <td>-0.032612</td>\n",
       "      <td>0.0</td>\n",
       "      <td>5004061</td>\n",
       "    </tr>\n",
       "    <tr>\n",
       "      <th>5004062</th>\n",
       "      <td>0.379615</td>\n",
       "      <td>0.0</td>\n",
       "      <td>5004062</td>\n",
       "    </tr>\n",
       "    <tr>\n",
       "      <th>5010786</th>\n",
       "      <td>-0.538359</td>\n",
       "      <td>0.0</td>\n",
       "      <td>5010786</td>\n",
       "    </tr>\n",
       "    <tr>\n",
       "      <th>5010787</th>\n",
       "      <td>0.399906</td>\n",
       "      <td>0.0</td>\n",
       "      <td>5010787</td>\n",
       "    </tr>\n",
       "  </tbody>\n",
       "</table>\n",
       "</div>"
      ],
      "text/plain": [
       "              evi  acled  pointid\n",
       "2764235  0.569313    0.0  2764235\n",
       "5004061 -0.032612    0.0  5004061\n",
       "5004062  0.379615    0.0  5004062\n",
       "5010786 -0.538359    0.0  5010786\n",
       "5010787  0.399906    0.0  5010787"
      ]
     },
     "execution_count": 121,
     "metadata": {},
     "output_type": "execute_result"
    }
   ],
   "source": [
    "df.head()"
   ]
  },
  {
   "cell_type": "code",
   "execution_count": 122,
   "id": "bf18b35a-97d3-4c04-a410-61349dcc90f6",
   "metadata": {},
   "outputs": [],
   "source": [
    "# bins = [-20, -2, -1, -0.5, 0.5, 1, 2, 20]\n",
    "# bin_labels = ['< -2', '(-2, -1]', '(-1, -0.5]', '(-0.5, -0.5]', '(0.5, 1]', '(1, 2]', '> 2']\n",
    "bins = [-20, -2, -1, 1, 2, 20]\n",
    "bin_labels = ['< -2', '(-2, -1]', '(-1, 1]', '(1, 2]', '> 2']\n",
    "\n",
    "df.loc[:, 'zscore_bin'] = pd.cut(df['evi'], bins=bins, include_lowest=True, labels=bin_labels)"
   ]
  },
  {
   "cell_type": "code",
   "execution_count": 123,
   "id": "5c0de63c-369b-4369-b0d2-49d56fbcbc0c",
   "metadata": {},
   "outputs": [
    {
     "name": "stderr",
     "output_type": "stream",
     "text": [
      "/tmp/ipykernel_3276933/2267268394.py:1: FutureWarning: The default of observed=False is deprecated and will be changed to True in a future version of pandas. Pass observed=False to retain current behavior or observed=True to adopt the future default and silence this warning.\n",
      "  df.groupby('zscore_bin')['acled'].mean()\n"
     ]
    },
    {
     "data": {
      "text/plain": [
       "zscore_bin\n",
       "< -2        0.362306\n",
       "(-2, -1]    0.354791\n",
       "(-1, 1]     0.468018\n",
       "(1, 2]      1.020864\n",
       "> 2         1.278801\n",
       "Name: acled, dtype: float32"
      ]
     },
     "execution_count": 123,
     "metadata": {},
     "output_type": "execute_result"
    }
   ],
   "source": [
    "df.groupby('zscore_bin')['acled'].mean()"
   ]
  },
  {
   "cell_type": "code",
   "execution_count": 81,
   "id": "7446f810-c444-479f-b645-0d586c9f4769",
   "metadata": {},
   "outputs": [
    {
     "name": "stderr",
     "output_type": "stream",
     "text": [
      "/tmp/ipykernel_3276933/2267268394.py:1: FutureWarning: The default of observed=False is deprecated and will be changed to True in a future version of pandas. Pass observed=False to retain current behavior or observed=True to adopt the future default and silence this warning.\n",
      "  df.groupby('zscore_bin')['acled'].mean()\n"
     ]
    },
    {
     "data": {
      "text/plain": [
       "zscore_bin\n",
       "< -2        0.367628\n",
       "(-2, -1]    0.360267\n",
       "(-1, 1]     0.426285\n",
       "(1, 2]      0.890144\n",
       "> 2         1.329012\n",
       "Name: acled, dtype: float32"
      ]
     },
     "execution_count": 81,
     "metadata": {},
     "output_type": "execute_result"
    }
   ],
   "source": [
    "df.groupby('zscore_bin')['acled'].mean()"
   ]
  },
  {
   "cell_type": "code",
   "execution_count": 83,
   "id": "c8e9d46a-cfe4-4228-bafc-f169b611ef9a",
   "metadata": {},
   "outputs": [
    {
     "data": {
      "text/plain": [
       "0.06723025296333299"
      ]
     },
     "execution_count": 83,
     "metadata": {},
     "output_type": "execute_result"
    }
   ],
   "source": [
    "df['evi'].corr(df['acled'])"
   ]
  },
  {
   "cell_type": "code",
   "execution_count": 84,
   "id": "9231c2c1-928b-42aa-82f6-ea6453fe18bc",
   "metadata": {},
   "outputs": [
    {
     "ename": "ModuleNotFoundError",
     "evalue": "No module named 'xarray'",
     "output_type": "error",
     "traceback": [
      "\u001b[0;31m---------------------------------------------------------------------------\u001b[0m",
      "\u001b[0;31mModuleNotFoundError\u001b[0m                       Traceback (most recent call last)",
      "Cell \u001b[0;32mIn[84], line 1\u001b[0m\n\u001b[0;32m----> 1\u001b[0m \u001b[38;5;28;01mimport\u001b[39;00m \u001b[38;5;21;01mxarray\u001b[39;00m\n",
      "\u001b[0;31mModuleNotFoundError\u001b[0m: No module named 'xarray'"
     ]
    }
   ],
   "source": [
    "import xarray"
   ]
  },
  {
   "cell_type": "code",
   "execution_count": null,
   "id": "cab6aaff-d8a4-4763-a81e-52a759aa00f3",
   "metadata": {},
   "outputs": [],
   "source": []
  },
  {
   "cell_type": "code",
   "execution_count": null,
   "id": "ee0dee44-653c-411d-8947-bc2ae693a251",
   "metadata": {},
   "outputs": [],
   "source": []
  },
  {
   "cell_type": "code",
   "execution_count": null,
   "id": "76807bee-dd29-4884-8f14-b8b1906720b2",
   "metadata": {},
   "outputs": [],
   "source": [
    "%%time\n",
    "import folium as flm\n",
    "from os.path import join, expanduser\n",
    "import numpy as np\n",
    "import leafmap.foliumap as leafmap\n",
    "import rasterio as rio\n",
    "from rasterio import features\n",
    "from shapely.geometry import box\n",
    "from affine import Affine\n",
    "from matplotlib import cm\n",
    "from rasterio import warp\n",
    "\n",
    "data_dir = join(expanduser('~'), 'data', 'niger')\n",
    "\n",
    "m = leafmap.Map()\n",
    "dest_crs = 'EPSG:4326'\n",
    "\n",
    "for year in range(2022, 2024):\n",
    "    src = rio.open(join(data_dir, f'zcore_dea_{year}_09.tif'))\n",
    "    data = src.read(1)\n",
    "    \n",
    "    left, bottom, right, top = src.bounds\n",
    "    left, bottom, right, top = warp.transform_bounds(src_crs=src.crs, dst_crs=dest_crs, left=left, \n",
    "                                   bottom=bottom, right=right, top=top)\n",
    "    bounds = [[bottom, left], [top, right]]\n",
    "    \n",
    "    flm.raster_layers.ImageOverlay(\n",
    "        image=data,\n",
    "        name=f'{year}',\n",
    "        opacity=1,\n",
    "        bounds=bounds,\n",
    "        interactive=False,\n",
    "        cross_origin=False,\n",
    "        zindex=1,\n",
    "        colormap=cm.get_cmap('BrBG', 10)\n",
    "    ).add_to(m)\n",
    "\n",
    "m.set_center(lon=centx, lat=centy, zoom=6)\n",
    "m.add_layer_control()\n",
    "# flm.LayerControl().add_to(m)\n",
    "m"
   ]
  }
 ],
 "metadata": {
  "kernelspec": {
   "display_name": "network",
   "language": "python",
   "name": "ox"
  },
  "language_info": {
   "codemirror_mode": {
    "name": "ipython",
    "version": 3
   },
   "file_extension": ".py",
   "mimetype": "text/x-python",
   "name": "python",
   "nbconvert_exporter": "python",
   "pygments_lexer": "ipython3",
   "version": "3.12.0"
  }
 },
 "nbformat": 4,
 "nbformat_minor": 5
}
